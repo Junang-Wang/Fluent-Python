{
 "cells": [
  {
   "attachments": {},
   "cell_type": "markdown",
   "metadata": {},
   "source": [
    "## Classic Strategy "
   ]
  },
  {
   "attachments": {},
   "cell_type": "markdown",
   "metadata": {},
   "source": [
    "#### abstract class can present the logic relation between codes or modes. Then let visitors focus on method and describe of abstract classes instead instantiating."
   ]
  },
  {
   "cell_type": "code",
   "execution_count": 5,
   "metadata": {},
   "outputs": [
    {
     "name": "stderr",
     "output_type": "stream",
     "text": [
      "ERROR: Could not find a version that satisfies the requirement abc (from versions: none)\n",
      "ERROR: No matching distribution found for abc\n"
     ]
    }
   ],
   "source": [
    "!pip install abc"
   ]
  },
  {
   "cell_type": "code",
   "execution_count": 4,
   "metadata": {},
   "outputs": [
    {
     "ename": "ModuleNotFoundError",
     "evalue": "No module named 'abs'",
     "output_type": "error",
     "traceback": [
      "\u001b[1;31m---------------------------------------------------------------------------\u001b[0m",
      "\u001b[1;31mModuleNotFoundError\u001b[0m                       Traceback (most recent call last)",
      "Cell \u001b[1;32mIn[4], line 1\u001b[0m\n\u001b[1;32m----> 1\u001b[0m \u001b[39mimport\u001b[39;00m \u001b[39mabs\u001b[39;00m\n",
      "\u001b[1;31mModuleNotFoundError\u001b[0m: No module named 'abs'"
     ]
    }
   ],
   "source": [
    "import abc"
   ]
  },
  {
   "cell_type": "code",
   "execution_count": 12,
   "metadata": {},
   "outputs": [
    {
     "name": "stdout",
     "output_type": "stream",
     "text": [
      "[<__main__.bulk_item_promo object at 0x00000228BA200A30>]\n",
      "[<__main__.bulk_item_promo object at 0x00000228BA200A30>]\n",
      "[<__main__.bulk_item_promo object at 0x00000228BA200A30>]\n",
      "[<__main__.bulk_item_promo object at 0x00000228BA200A30>]\n",
      "[<__main__.bulk_item_promo object at 0x00000228BA200A30>]\n",
      "[<__main__.bulk_item_promo object at 0x00000228BA200A30>]\n",
      "[<__main__.bulk_item_promo object at 0x00000228BA200A30>]\n",
      "[<__main__.bulk_item_promo object at 0x00000228BA200A30>]\n",
      "[<__main__.bulk_item_promo object at 0x00000228BA200A30>]\n",
      "[<__main__.bulk_item_promo object at 0x00000228BA200A30>]\n",
      "[<__main__.bulk_item_promo object at 0x00000228BA200A30>]\n",
      "[<__main__.bulk_item_promo object at 0x00000228BA200A30>]\n",
      "[<__main__.bulk_item_promo object at 0x00000228BA200A30>]\n",
      "[<__main__.bulk_item_promo object at 0x00000228BA200A30>]\n",
      "{'__name__': '__main__', '__doc__': 'Automatically created module for IPython interactive environment', '__package__': None, '__loader__': None, '__spec__': None, '__builtin__': <module 'builtins' (built-in)>, '__builtins__': <module 'builtins' (built-in)>, '_ih': ['', 'from abc import ABC, abstractmethod\\nfrom collections import namedtuple\\n\\nCustomer = namedtuple(\\'Customer\\',\\'name fidelity\\')\\n\\nclass LineItem:\\n\\n    def __init__(self,product,quantity,price):\\n        self.product = product \\n        self.quantity = quantity\\n        self.price = price \\n    \\n    def total(self):\\n        return self.price*self.quantity \\n\\nclass Order:\\n\\n    def __init__(self,customer,cart,promotion=None):\\n        self.customer = customer \\n        self.cart = list(cart)\\n        self.promotion = promotion \\n    def total(self):\\n        if not hasattr(self,\\'__total\\'):\\n            self.__total = sum(item.total() for item in self.cart)\\n        return self.__total \\n    \\n    def due(self):\\n        if self.promotion is None:\\n            discount = 0\\n        else:\\n            discount = self.promotion.discount(self) #pass order to promotion function\\n        return self.total() - discount\\n\\n    def __repr__(self):\\n        fmt = \\'<Order total: {:.2f} due: {:.2f}>\\'\\n        return fmt.format(self.total(), self.due())\\n    \\nclass Promotion(ABC): #the Strategy: an abstract base class\\n\\n    @abstractmethod \\n    def discount(self, order):\\n        \"\"\" Return discount as a positive dollar amount\"\"\"\\n    \\nclass Fidelity_Promo(Promotion):\\n    \"\"\"5% discount for customers with 1000 or more fidelity points\"\"\"\\n\\n    def discount(self,order):\\n        return order.total()*0.5 if order.customer.fidelity >= 1000 else 0\\n\\nclass bulk_item_promo(Promotion):\\n    def discount(self,order):\\n        \"\"\"10% discount for each LineItem with 20 or more units\"\"\"\\n        discount = 0\\n        for item in order.cart:\\n            if item.quantity >= 20:\\n                discount += item.total() * .1\\n        return discount\\n\\nprint(globals())', \"joe = Customer('John Doe',0)\\nann = Customer('Ann Simith',1100)\\ncart = [\\n    LineItem('banana',4,.5),\\n    LineItem('apple',10,1.5),\\n    LineItem('watermellon',5,5)\\n]\\nOrder(joe,cart,Fidelity_Promo())\\nOrder(ann,cart,Fidelity_Promo())\", 'promos = [globals()[name] for name in globals() if name.endswith(\\'_promo\\') and name!= \\'best_promo\\']\\nprint(promos)\\nclass best_promo(Promotion):\\n    def discount(self, order):\\n        \"\"\"select best discount available\"\"\"\\n        print(promos)\\n        return max(promo.discount(order) for promo in promos)', 'Order(joe,cart,best_promo())', 'promos = [globals()[name()] for name in globals() if name.endswith(\\'_promo\\') and name!= \\'best_promo\\']\\nprint(promos)\\nclass best_promo(Promotion):\\n    def discount(self, order):\\n        \"\"\"select best discount available\"\"\"\\n        print(promos)\\n        return max(promo.discount(order) for promo in promos)', 'promos = [globals()[name]() for name in globals() if name.endswith(\\'_promo\\') and name!= \\'best_promo\\']\\nprint(promos)\\nclass best_promo(Promotion):\\n    def discount(self, order):\\n        \"\"\"select best discount available\"\"\"\\n        print(promos)\\n        return max(promo.discount(order) for promo in promos)', 'Order(joe,cart,best_promo())', 'Order(joe,cart,best_promo())\\nOrder(ann,cart,best_promo())', '#Order(joe,cart,best_promo())\\nOrder(ann,cart,best_promo())', 'promos = [globals()[name]() for name in globals() if name.endswith(\\'_promo\\') and name!= \\'best_promo\\']\\nprint(promos)\\nclass best_promo(Promotion):\\n    def discount(self, order):\\n        \"\"\"select best discount available\"\"\"\\n        (print(promo.discount(order)) for promo in promos)\\n        return max(promo.discount(order) for promo in promos)', '#Order(joe,cart,best_promo())\\nOrder(ann,cart,best_promo())', 'from abc import ABC, abstractmethod\\nfrom collections import namedtuple\\n\\nCustomer = namedtuple(\\'Customer\\',\\'name fidelity\\')\\n\\nclass LineItem:\\n\\n    def __init__(self,product,quantity,price):\\n        self.product = product \\n        self.quantity = quantity\\n        self.price = price \\n    \\n    def total(self):\\n        return self.price*self.quantity \\n\\nclass Order:\\n\\n    def __init__(self,customer,cart,promotion=None):\\n        self.customer = customer \\n        self.cart = list(cart)\\n        self.promotion = promotion \\n    def total(self):\\n        if not hasattr(self,\\'__total\\'):\\n            self.__total = sum(item.total() for item in self.cart)\\n        return self.__total \\n    \\n    def due(self):\\n        if self.promotion is None:\\n            discount = 0\\n        else:\\n            discount = self.promotion.discount(self) #pass order to promotion function\\n        return self.total() - discount\\n\\n    def __repr__(self):\\n        fmt = \\'<Order total: {:.2f} due: {:.2f}>\\'\\n        return fmt.format(self.total(), self.due())\\n    \\nclass Promotion(ABC): #the Strategy: an abstract base class\\n\\n    @abstractmethod \\n    def discount(self, order):\\n        \"\"\" Return discount as a positive dollar amount\"\"\"\\n    \\nclass Fidelity_Promo(Promotion):\\n    \"\"\"5% discount for customers with 1000 or more fidelity points\"\"\"\\n\\n    def discount(self,order):\\n        return order.total()*0.5 if order.customer.fidelity >= 1000 else 0\\n\\nclass bulk_item_Promo(Promotion):\\n    def discount(self,order):\\n        \"\"\"10% discount for each LineItem with 20 or more units\"\"\"\\n        discount = 0\\n        for item in order.cart:\\n            if item.quantity >= 20:\\n                discount += item.total() * .1\\n        return discount\\n\\nprint(globals())'], '_oh': {2: <Order total: 42.00 due: 21.00>, 4: <Order total: 42.00 due: 42.00>, 7: <Order total: 42.00 due: 42.00>, 8: <Order total: 42.00 due: 42.00>, 9: <Order total: 42.00 due: 42.00>, 11: <Order total: 42.00 due: 42.00>}, '_dh': [WindowsPath('e:/files/文章/Machine Learning/Fluent Python'), WindowsPath('e:/files/文章/Machine Learning/Fluent Python')], 'In': ['', 'from abc import ABC, abstractmethod\\nfrom collections import namedtuple\\n\\nCustomer = namedtuple(\\'Customer\\',\\'name fidelity\\')\\n\\nclass LineItem:\\n\\n    def __init__(self,product,quantity,price):\\n        self.product = product \\n        self.quantity = quantity\\n        self.price = price \\n    \\n    def total(self):\\n        return self.price*self.quantity \\n\\nclass Order:\\n\\n    def __init__(self,customer,cart,promotion=None):\\n        self.customer = customer \\n        self.cart = list(cart)\\n        self.promotion = promotion \\n    def total(self):\\n        if not hasattr(self,\\'__total\\'):\\n            self.__total = sum(item.total() for item in self.cart)\\n        return self.__total \\n    \\n    def due(self):\\n        if self.promotion is None:\\n            discount = 0\\n        else:\\n            discount = self.promotion.discount(self) #pass order to promotion function\\n        return self.total() - discount\\n\\n    def __repr__(self):\\n        fmt = \\'<Order total: {:.2f} due: {:.2f}>\\'\\n        return fmt.format(self.total(), self.due())\\n    \\nclass Promotion(ABC): #the Strategy: an abstract base class\\n\\n    @abstractmethod \\n    def discount(self, order):\\n        \"\"\" Return discount as a positive dollar amount\"\"\"\\n    \\nclass Fidelity_Promo(Promotion):\\n    \"\"\"5% discount for customers with 1000 or more fidelity points\"\"\"\\n\\n    def discount(self,order):\\n        return order.total()*0.5 if order.customer.fidelity >= 1000 else 0\\n\\nclass bulk_item_promo(Promotion):\\n    def discount(self,order):\\n        \"\"\"10% discount for each LineItem with 20 or more units\"\"\"\\n        discount = 0\\n        for item in order.cart:\\n            if item.quantity >= 20:\\n                discount += item.total() * .1\\n        return discount\\n\\nprint(globals())', \"joe = Customer('John Doe',0)\\nann = Customer('Ann Simith',1100)\\ncart = [\\n    LineItem('banana',4,.5),\\n    LineItem('apple',10,1.5),\\n    LineItem('watermellon',5,5)\\n]\\nOrder(joe,cart,Fidelity_Promo())\\nOrder(ann,cart,Fidelity_Promo())\", 'promos = [globals()[name] for name in globals() if name.endswith(\\'_promo\\') and name!= \\'best_promo\\']\\nprint(promos)\\nclass best_promo(Promotion):\\n    def discount(self, order):\\n        \"\"\"select best discount available\"\"\"\\n        print(promos)\\n        return max(promo.discount(order) for promo in promos)', 'Order(joe,cart,best_promo())', 'promos = [globals()[name()] for name in globals() if name.endswith(\\'_promo\\') and name!= \\'best_promo\\']\\nprint(promos)\\nclass best_promo(Promotion):\\n    def discount(self, order):\\n        \"\"\"select best discount available\"\"\"\\n        print(promos)\\n        return max(promo.discount(order) for promo in promos)', 'promos = [globals()[name]() for name in globals() if name.endswith(\\'_promo\\') and name!= \\'best_promo\\']\\nprint(promos)\\nclass best_promo(Promotion):\\n    def discount(self, order):\\n        \"\"\"select best discount available\"\"\"\\n        print(promos)\\n        return max(promo.discount(order) for promo in promos)', 'Order(joe,cart,best_promo())', 'Order(joe,cart,best_promo())\\nOrder(ann,cart,best_promo())', '#Order(joe,cart,best_promo())\\nOrder(ann,cart,best_promo())', 'promos = [globals()[name]() for name in globals() if name.endswith(\\'_promo\\') and name!= \\'best_promo\\']\\nprint(promos)\\nclass best_promo(Promotion):\\n    def discount(self, order):\\n        \"\"\"select best discount available\"\"\"\\n        (print(promo.discount(order)) for promo in promos)\\n        return max(promo.discount(order) for promo in promos)', '#Order(joe,cart,best_promo())\\nOrder(ann,cart,best_promo())', 'from abc import ABC, abstractmethod\\nfrom collections import namedtuple\\n\\nCustomer = namedtuple(\\'Customer\\',\\'name fidelity\\')\\n\\nclass LineItem:\\n\\n    def __init__(self,product,quantity,price):\\n        self.product = product \\n        self.quantity = quantity\\n        self.price = price \\n    \\n    def total(self):\\n        return self.price*self.quantity \\n\\nclass Order:\\n\\n    def __init__(self,customer,cart,promotion=None):\\n        self.customer = customer \\n        self.cart = list(cart)\\n        self.promotion = promotion \\n    def total(self):\\n        if not hasattr(self,\\'__total\\'):\\n            self.__total = sum(item.total() for item in self.cart)\\n        return self.__total \\n    \\n    def due(self):\\n        if self.promotion is None:\\n            discount = 0\\n        else:\\n            discount = self.promotion.discount(self) #pass order to promotion function\\n        return self.total() - discount\\n\\n    def __repr__(self):\\n        fmt = \\'<Order total: {:.2f} due: {:.2f}>\\'\\n        return fmt.format(self.total(), self.due())\\n    \\nclass Promotion(ABC): #the Strategy: an abstract base class\\n\\n    @abstractmethod \\n    def discount(self, order):\\n        \"\"\" Return discount as a positive dollar amount\"\"\"\\n    \\nclass Fidelity_Promo(Promotion):\\n    \"\"\"5% discount for customers with 1000 or more fidelity points\"\"\"\\n\\n    def discount(self,order):\\n        return order.total()*0.5 if order.customer.fidelity >= 1000 else 0\\n\\nclass bulk_item_Promo(Promotion):\\n    def discount(self,order):\\n        \"\"\"10% discount for each LineItem with 20 or more units\"\"\"\\n        discount = 0\\n        for item in order.cart:\\n            if item.quantity >= 20:\\n                discount += item.total() * .1\\n        return discount\\n\\nprint(globals())'], 'Out': {2: <Order total: 42.00 due: 21.00>, 4: <Order total: 42.00 due: 42.00>, 7: <Order total: 42.00 due: 42.00>, 8: <Order total: 42.00 due: 42.00>, 9: <Order total: 42.00 due: 42.00>, 11: <Order total: 42.00 due: 42.00>}, 'get_ipython': <bound method InteractiveShell.get_ipython of <ipykernel.zmqshell.ZMQInteractiveShell object at 0x00000228B8955880>>, 'exit': <IPython.core.autocall.ZMQExitAutocall object at 0x00000228B89A13A0>, 'quit': <IPython.core.autocall.ZMQExitAutocall object at 0x00000228B89A13A0>, 'open': <function open at 0x00000228B6DD5790>, '_': <Order total: 42.00 due: 42.00>, '__': <Order total: 42.00 due: 42.00>, '___': <Order total: 42.00 due: 42.00>, '__vsc_ipynb_file__': 'e:\\\\files\\\\文章\\\\Machine Learning\\\\Fluent Python\\\\Chapter6 Design Patterns with First-Class Functions.ipynb', '_i': '#Order(joe,cart,best_promo())\\nOrder(ann,cart,best_promo())', '_ii': 'promos = [globals()[name]() for name in globals() if name.endswith(\\'_promo\\') and name!= \\'best_promo\\']\\nprint(promos)\\nclass best_promo(Promotion):\\n    def discount(self, order):\\n        \"\"\"select best discount available\"\"\"\\n        (print(promo.discount(order)) for promo in promos)\\n        return max(promo.discount(order) for promo in promos)', '_iii': '#Order(joe,cart,best_promo())\\nOrder(ann,cart,best_promo())', '_i1': 'from abc import ABC, abstractmethod\\nfrom collections import namedtuple\\n\\nCustomer = namedtuple(\\'Customer\\',\\'name fidelity\\')\\n\\nclass LineItem:\\n\\n    def __init__(self,product,quantity,price):\\n        self.product = product \\n        self.quantity = quantity\\n        self.price = price \\n    \\n    def total(self):\\n        return self.price*self.quantity \\n\\nclass Order:\\n\\n    def __init__(self,customer,cart,promotion=None):\\n        self.customer = customer \\n        self.cart = list(cart)\\n        self.promotion = promotion \\n    def total(self):\\n        if not hasattr(self,\\'__total\\'):\\n            self.__total = sum(item.total() for item in self.cart)\\n        return self.__total \\n    \\n    def due(self):\\n        if self.promotion is None:\\n            discount = 0\\n        else:\\n            discount = self.promotion.discount(self) #pass order to promotion function\\n        return self.total() - discount\\n\\n    def __repr__(self):\\n        fmt = \\'<Order total: {:.2f} due: {:.2f}>\\'\\n        return fmt.format(self.total(), self.due())\\n    \\nclass Promotion(ABC): #the Strategy: an abstract base class\\n\\n    @abstractmethod \\n    def discount(self, order):\\n        \"\"\" Return discount as a positive dollar amount\"\"\"\\n    \\nclass Fidelity_Promo(Promotion):\\n    \"\"\"5% discount for customers with 1000 or more fidelity points\"\"\"\\n\\n    def discount(self,order):\\n        return order.total()*0.5 if order.customer.fidelity >= 1000 else 0\\n\\nclass bulk_item_promo(Promotion):\\n    def discount(self,order):\\n        \"\"\"10% discount for each LineItem with 20 or more units\"\"\"\\n        discount = 0\\n        for item in order.cart:\\n            if item.quantity >= 20:\\n                discount += item.total() * .1\\n        return discount\\n\\nprint(globals())', 'ABC': <class 'abc.ABC'>, 'abstractmethod': <function abstractmethod at 0x00000228B3B90D30>, 'namedtuple': <function namedtuple at 0x00000228B41F15E0>, 'Customer': <class '__main__.Customer'>, 'LineItem': <class '__main__.LineItem'>, 'Order': <class '__main__.Order'>, 'Promotion': <class '__main__.Promotion'>, 'Fidelity_Promo': <class '__main__.Fidelity_Promo'>, 'bulk_item_promo': <class '__main__.bulk_item_promo'>, '_i2': \"joe = Customer('John Doe',0)\\nann = Customer('Ann Simith',1100)\\ncart = [\\n    LineItem('banana',4,.5),\\n    LineItem('apple',10,1.5),\\n    LineItem('watermellon',5,5)\\n]\\nOrder(joe,cart,Fidelity_Promo())\\nOrder(ann,cart,Fidelity_Promo())\", 'joe': Customer(name='John Doe', fidelity=0), 'ann': Customer(name='Ann Simith', fidelity=1100), 'cart': [<__main__.LineItem object at 0x00000228B8B056D0>, <__main__.LineItem object at 0x00000228B8B05700>, <__main__.LineItem object at 0x00000228B8B057C0>], '_2': <Order total: 42.00 due: 21.00>, '_i3': 'promos = [globals()[name] for name in globals() if name.endswith(\\'_promo\\') and name!= \\'best_promo\\']\\nprint(promos)\\nclass best_promo(Promotion):\\n    def discount(self, order):\\n        \"\"\"select best discount available\"\"\"\\n        print(promos)\\n        return max(promo.discount(order) for promo in promos)', 'promos': [<__main__.bulk_item_promo object at 0x00000228BA200A30>], 'best_promo': <class '__main__.best_promo'>, '_i4': 'Order(joe,cart,best_promo())', '_4': <Order total: 42.00 due: 42.00>, '_i5': 'promos = [globals()[name()] for name in globals() if name.endswith(\\'_promo\\') and name!= \\'best_promo\\']\\nprint(promos)\\nclass best_promo(Promotion):\\n    def discount(self, order):\\n        \"\"\"select best discount available\"\"\"\\n        print(promos)\\n        return max(promo.discount(order) for promo in promos)', '_i6': 'promos = [globals()[name]() for name in globals() if name.endswith(\\'_promo\\') and name!= \\'best_promo\\']\\nprint(promos)\\nclass best_promo(Promotion):\\n    def discount(self, order):\\n        \"\"\"select best discount available\"\"\"\\n        print(promos)\\n        return max(promo.discount(order) for promo in promos)', '_i7': 'Order(joe,cart,best_promo())', '_7': <Order total: 42.00 due: 42.00>, '_i8': 'Order(joe,cart,best_promo())\\nOrder(ann,cart,best_promo())', '_8': <Order total: 42.00 due: 42.00>, '_i9': '#Order(joe,cart,best_promo())\\nOrder(ann,cart,best_promo())', '_9': <Order total: 42.00 due: 42.00>, '_i10': 'promos = [globals()[name]() for name in globals() if name.endswith(\\'_promo\\') and name!= \\'best_promo\\']\\nprint(promos)\\nclass best_promo(Promotion):\\n    def discount(self, order):\\n        \"\"\"select best discount available\"\"\"\\n        (print(promo.discount(order)) for promo in promos)\\n        return max(promo.discount(order) for promo in promos)', '_i11': '#Order(joe,cart,best_promo())\\nOrder(ann,cart,best_promo())', '_11': <Order total: 42.00 due: 42.00>, '_i12': 'from abc import ABC, abstractmethod\\nfrom collections import namedtuple\\n\\nCustomer = namedtuple(\\'Customer\\',\\'name fidelity\\')\\n\\nclass LineItem:\\n\\n    def __init__(self,product,quantity,price):\\n        self.product = product \\n        self.quantity = quantity\\n        self.price = price \\n    \\n    def total(self):\\n        return self.price*self.quantity \\n\\nclass Order:\\n\\n    def __init__(self,customer,cart,promotion=None):\\n        self.customer = customer \\n        self.cart = list(cart)\\n        self.promotion = promotion \\n    def total(self):\\n        if not hasattr(self,\\'__total\\'):\\n            self.__total = sum(item.total() for item in self.cart)\\n        return self.__total \\n    \\n    def due(self):\\n        if self.promotion is None:\\n            discount = 0\\n        else:\\n            discount = self.promotion.discount(self) #pass order to promotion function\\n        return self.total() - discount\\n\\n    def __repr__(self):\\n        fmt = \\'<Order total: {:.2f} due: {:.2f}>\\'\\n        return fmt.format(self.total(), self.due())\\n    \\nclass Promotion(ABC): #the Strategy: an abstract base class\\n\\n    @abstractmethod \\n    def discount(self, order):\\n        \"\"\" Return discount as a positive dollar amount\"\"\"\\n    \\nclass Fidelity_Promo(Promotion):\\n    \"\"\"5% discount for customers with 1000 or more fidelity points\"\"\"\\n\\n    def discount(self,order):\\n        return order.total()*0.5 if order.customer.fidelity >= 1000 else 0\\n\\nclass bulk_item_Promo(Promotion):\\n    def discount(self,order):\\n        \"\"\"10% discount for each LineItem with 20 or more units\"\"\"\\n        discount = 0\\n        for item in order.cart:\\n            if item.quantity >= 20:\\n                discount += item.total() * .1\\n        return discount\\n\\nprint(globals())', 'bulk_item_Promo': <class '__main__.bulk_item_Promo'>}\n"
     ]
    }
   ],
   "source": [
    "from abc import ABC, abstractmethod\n",
    "from collections import namedtuple\n",
    "\n",
    "Customer = namedtuple('Customer','name fidelity')\n",
    "\n",
    "class LineItem:\n",
    "\n",
    "    def __init__(self,product,quantity,price):\n",
    "        self.product = product \n",
    "        self.quantity = quantity\n",
    "        self.price = price \n",
    "    \n",
    "    def total(self):\n",
    "        return self.price*self.quantity \n",
    "\n",
    "class Order:\n",
    "\n",
    "    def __init__(self,customer,cart,promotion=None):\n",
    "        self.customer = customer \n",
    "        self.cart = list(cart)\n",
    "        self.promotion = promotion \n",
    "    def total(self):\n",
    "        if not hasattr(self,'__total'):\n",
    "            self.__total = sum(item.total() for item in self.cart)\n",
    "        return self.__total \n",
    "    \n",
    "    def due(self):\n",
    "        if self.promotion is None:\n",
    "            discount = 0\n",
    "        else:\n",
    "            discount = self.promotion.discount(self) #pass order to promotion function\n",
    "        return self.total() - discount\n",
    "\n",
    "    def __repr__(self):\n",
    "        fmt = '<Order total: {:.2f} due: {:.2f}>'\n",
    "        return fmt.format(self.total(), self.due())\n",
    "    \n",
    "class Promotion(ABC): #the Strategy: an abstract base class\n",
    "\n",
    "    @abstractmethod \n",
    "    def discount(self, order):\n",
    "        \"\"\" Return discount as a positive dollar amount\"\"\"\n",
    "    \n",
    "class Fidelity_Promo(Promotion):\n",
    "    \"\"\"5% discount for customers with 1000 or more fidelity points\"\"\"\n",
    "\n",
    "    def discount(self,order):\n",
    "        return order.total()*0.5 if order.customer.fidelity >= 1000 else 0\n",
    "\n",
    "class bulk_item_Promo(Promotion):\n",
    "    def discount(self,order):\n",
    "        \"\"\"10% discount for each LineItem with 20 or more units\"\"\"\n",
    "        discount = 0\n",
    "        for item in order.cart:\n",
    "            if item.quantity >= 20:\n",
    "                discount += item.total() * .1\n",
    "        return discount\n",
    "\n",
    "print(globals())\n"
   ]
  },
  {
   "cell_type": "code",
   "execution_count": 2,
   "metadata": {},
   "outputs": [
    {
     "data": {
      "text/plain": [
       "<Order total: 42.00 due: 21.00>"
      ]
     },
     "execution_count": 2,
     "metadata": {},
     "output_type": "execute_result"
    }
   ],
   "source": [
    "joe = Customer('John Doe',0)\n",
    "ann = Customer('Ann Simith',1100)\n",
    "cart = [\n",
    "    LineItem('banana',4,.5),\n",
    "    LineItem('apple',10,1.5),\n",
    "    LineItem('watermellon',5,5)\n",
    "]\n",
    "Order(joe,cart,Fidelity_Promo())\n",
    "Order(ann,cart,Fidelity_Promo())"
   ]
  },
  {
   "attachments": {},
   "cell_type": "markdown",
   "metadata": {},
   "source": [
    "### Find the best strategy"
   ]
  },
  {
   "cell_type": "code",
   "execution_count": 15,
   "metadata": {},
   "outputs": [
    {
     "name": "stdout",
     "output_type": "stream",
     "text": [
      "[<__main__.Fidelity_Promo object at 0x00000228BA583D90>, <__main__.bulk_item_Promo object at 0x00000228BA583E80>]\n"
     ]
    }
   ],
   "source": [
    "promos = [globals()[name]() for name in globals() if name.endswith('_Promo') and name!= 'best_promo']\n",
    "print(promos)\n",
    "class best_promo(Promotion):\n",
    "    def discount(self, order):\n",
    "        \"\"\"select best discount available\"\"\"\n",
    "        #(print(promo.discount(order)) for promo in promos)\n",
    "        return max(promo.discount(order) for promo in promos)"
   ]
  },
  {
   "cell_type": "code",
   "execution_count": 16,
   "metadata": {},
   "outputs": [
    {
     "data": {
      "text/plain": [
       "<Order total: 42.00 due: 21.00>"
      ]
     },
     "execution_count": 16,
     "metadata": {},
     "output_type": "execute_result"
    }
   ],
   "source": [
    "#Order(joe,cart,best_promo())\n",
    "Order(ann,cart,best_promo())"
   ]
  },
  {
   "cell_type": "code",
   "execution_count": null,
   "metadata": {},
   "outputs": [],
   "source": []
  }
 ],
 "metadata": {
  "kernelspec": {
   "display_name": "AI4Sci",
   "language": "python",
   "name": "python3"
  },
  "language_info": {
   "codemirror_mode": {
    "name": "ipython",
    "version": 3
   },
   "file_extension": ".py",
   "mimetype": "text/x-python",
   "name": "python",
   "nbconvert_exporter": "python",
   "pygments_lexer": "ipython3",
   "version": "3.9.16"
  },
  "orig_nbformat": 4
 },
 "nbformat": 4,
 "nbformat_minor": 2
}
