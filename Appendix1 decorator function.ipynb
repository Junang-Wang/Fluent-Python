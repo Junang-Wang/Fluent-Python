{
 "cells": [
  {
   "cell_type": "code",
   "execution_count": 2,
   "metadata": {},
   "outputs": [
    {
     "name": "stdout",
     "output_type": "stream",
     "text": [
      "before Execution\n",
      "Inside the function\n",
      "after Execution\n",
      "Sum = 3\n"
     ]
    }
   ],
   "source": [
    "def hello_decorator(func):\n",
    "    def inner1(*args, **kwargs):\n",
    "         \n",
    "        print(\"before Execution\")\n",
    "         \n",
    "        # getting the returned value\n",
    "        returned_value = func(*args, **kwargs)\n",
    "        print(\"after Execution\")\n",
    "         \n",
    "        # returning the value to the original frame\n",
    "        return returned_value\n",
    "         \n",
    "    return inner1\n",
    " \n",
    " \n",
    "# adding decorator to the function\n",
    "@hello_decorator\n",
    "def sum_two_numbers(a, b):\n",
    "    print(\"Inside the function\")\n",
    "    return a + b\n",
    " \n",
    "a, b = 1, 2\n",
    " \n",
    "# getting the value through return of the function\n",
    "print(\"Sum =\", sum_two_numbers(a, b))"
   ]
  },
  {
   "attachments": {},
   "cell_type": "markdown",
   "metadata": {},
   "source": [
    "which is equivalent to"
   ]
  },
  {
   "cell_type": "code",
   "execution_count": 4,
   "metadata": {},
   "outputs": [
    {
     "name": "stdout",
     "output_type": "stream",
     "text": [
      "before Execution\n",
      "before Execution\n",
      "Inside the function\n",
      "after Execution\n",
      "after Execution\n"
     ]
    },
    {
     "data": {
      "text/plain": [
       "3"
      ]
     },
     "execution_count": 4,
     "metadata": {},
     "output_type": "execute_result"
    }
   ],
   "source": [
    "hello_decorator(sum_two_numbers)(a,b) "
   ]
  },
  {
   "cell_type": "code",
   "execution_count": null,
   "metadata": {},
   "outputs": [],
   "source": []
  }
 ],
 "metadata": {
  "kernelspec": {
   "display_name": "AI4Sci",
   "language": "python",
   "name": "python3"
  },
  "language_info": {
   "codemirror_mode": {
    "name": "ipython",
    "version": 3
   },
   "file_extension": ".py",
   "mimetype": "text/x-python",
   "name": "python",
   "nbconvert_exporter": "python",
   "pygments_lexer": "ipython3",
   "version": "3.9.16"
  },
  "orig_nbformat": 4
 },
 "nbformat": 4,
 "nbformat_minor": 2
}
