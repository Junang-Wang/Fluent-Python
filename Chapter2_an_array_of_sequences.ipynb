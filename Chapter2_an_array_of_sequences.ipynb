{
 "cells": [
  {
   "attachments": {},
   "cell_type": "markdown",
   "metadata": {},
   "source": [
    "## 1. Listcomps (list Comprehension)\n",
    "### Cartesian Products \n",
    "Suppose  you need to produce a list of T-shirts available in two colors and three sizes."
   ]
  },
  {
   "cell_type": "code",
   "execution_count": 3,
   "metadata": {},
   "outputs": [
    {
     "data": {
      "text/plain": [
       "[('red', 'S'),\n",
       " ('red', 'M'),\n",
       " ('red', 'L'),\n",
       " ('blue', 'S'),\n",
       " ('blue', 'M'),\n",
       " ('blue', 'L')]"
      ]
     },
     "execution_count": 3,
     "metadata": {},
     "output_type": "execute_result"
    }
   ],
   "source": [
    "colors = ['red','blue']\n",
    "sizes = ['S','M','L']\n",
    "tshirts = [(color,size) for color in colors \n",
    "                        for size in sizes]\n",
    "tshirts"
   ]
  },
  {
   "attachments": {},
   "cell_type": "markdown",
   "metadata": {},
   "source": [
    "### Generator Expression\n"
   ]
  },
  {
   "cell_type": "code",
   "execution_count": 5,
   "metadata": {},
   "outputs": [
    {
     "data": {
      "text/plain": [
       "array('I', [36, 35, 42, 38])"
      ]
     },
     "execution_count": 5,
     "metadata": {},
     "output_type": "execute_result"
    }
   ],
   "source": [
    "import array \n",
    "symbols = '$#*&'\n",
    "array.array('I',(ord(symbol) for symbol in symbols))"
   ]
  },
  {
   "attachments": {},
   "cell_type": "markdown",
   "metadata": {},
   "source": [
    "### Tuple Unpacking"
   ]
  },
  {
   "cell_type": "code",
   "execution_count": 6,
   "metadata": {},
   "outputs": [
    {
     "name": "stdout",
     "output_type": "stream",
     "text": [
      "(2, 4)\n",
      "(2, 4)\n"
     ]
    }
   ],
   "source": [
    "print(divmod(20,8))\n",
    "t = (20,8)\n",
    "print(divmod(*t))"
   ]
  },
  {
   "attachments": {},
   "cell_type": "markdown",
   "metadata": {},
   "source": [
    "Using * to grab excess items"
   ]
  },
  {
   "cell_type": "code",
   "execution_count": 7,
   "metadata": {},
   "outputs": [
    {
     "name": "stdout",
     "output_type": "stream",
     "text": [
      "0 1 [2, 3, 4]\n"
     ]
    }
   ],
   "source": [
    "a, b, *rest = range(5)\n",
    "print(a,b,rest)"
   ]
  },
  {
   "attachments": {},
   "cell_type": "markdown",
   "metadata": {},
   "source": [
    "### Nested Tuple Unpacking"
   ]
  },
  {
   "cell_type": "code",
   "execution_count": 7,
   "metadata": {},
   "outputs": [
    {
     "name": "stdout",
     "output_type": "stream",
     "text": [
      "                |    lat    |   long   \n",
      "Tokyo           |  35.6897  | 139.6917 \n",
      "\n",
      "Tokyo           |  35.6897  | 139.6917 \n",
      "Delhi           |  28.6139  |  77.2089 \n",
      "\n"
     ]
    }
   ],
   "source": [
    "metro_areas = [\n",
    "    ('Tokyo','JP',36.933,(35.689722,139.691667)),\n",
    "    ('Delhi','IN',21.935,(28.613889,77.208889))\n",
    "]\n",
    "print('{:15} | {:^9} | {:^9}'.format('','lat','long')) #^ 为居中\n",
    "fmt = '{:15} | {:^9.4f} | {:^9.4f}'\n",
    "A = ''\n",
    "for name, country, pop, (latitude,longitude) in metro_areas:\n",
    "    A += fmt.format(name,latitude,longitude) +'\\n'\n",
    "    print(A)"
   ]
  },
  {
   "cell_type": "code",
   "execution_count": 9,
   "metadata": {},
   "outputs": [
    {
     "name": "stdout",
     "output_type": "stream",
     "text": [
      "Tokyo           |  35.689   | 139.6\n",
      "Delhi           |  28.613   |  77.2\n",
      "  \n"
     ]
    }
   ],
   "source": [
    "name = slice(0,15)\n",
    "lat = slice(16,16+9)\n",
    "long = slice(26,26+9)\n",
    "lines_text = A.split('\\n')\n",
    "for line in lines_text:\n",
    "    print(line[name],line[lat],line[long])"
   ]
  },
  {
   "attachments": {},
   "cell_type": "markdown",
   "metadata": {},
   "source": [
    "### Named Tuples\n",
    "The collections.namedtuple function is a factory that produces subclass of tuple enhanced with field names and a class name"
   ]
  },
  {
   "cell_type": "code",
   "execution_count": 10,
   "metadata": {},
   "outputs": [
    {
     "data": {
      "text/plain": [
       "City(name='Tokyo', country='JP', population=36.99, coordinate=(35, 139))"
      ]
     },
     "execution_count": 10,
     "metadata": {},
     "output_type": "execute_result"
    }
   ],
   "source": [
    "from collections import namedtuple\n",
    "City = namedtuple('City','name country population coordinate')\n",
    "Tokyo = City('Tokyo', 'JP', 36.99, (35,139))\n",
    "Tokyo"
   ]
  },
  {
   "cell_type": "code",
   "execution_count": 11,
   "metadata": {},
   "outputs": [
    {
     "data": {
      "text/plain": [
       "36.99"
      ]
     },
     "execution_count": 11,
     "metadata": {},
     "output_type": "execute_result"
    }
   ],
   "source": [
    "Tokyo.population"
   ]
  },
  {
   "attachments": {},
   "cell_type": "markdown",
   "metadata": {},
   "source": [
    "### Building Lists of lists"
   ]
  },
  {
   "cell_type": "code",
   "execution_count": 15,
   "metadata": {},
   "outputs": [
    {
     "name": "stdout",
     "output_type": "stream",
     "text": [
      "[['_', '_', '_'], ['_', '_', '_'], ['_', '_', '_']]\n",
      "[['_', '_', '_'], ['_', '_', 'X'], ['_', '_', '_']]\n"
     ]
    }
   ],
   "source": [
    "board = [ ['_']*3 for i in range(3) ]\n",
    "print(board)\n",
    "board[1][2] = 'X'\n",
    "print(board)"
   ]
  },
  {
   "cell_type": "code",
   "execution_count": 17,
   "metadata": {},
   "outputs": [
    {
     "name": "stdout",
     "output_type": "stream",
     "text": [
      "[['_', '_', '_'], ['_', '_', '_'], ['_', '_', '_']]\n",
      "[['_', '_', 'X'], ['_', '_', 'X'], ['_', '_', 'X']]\n"
     ]
    }
   ],
   "source": [
    "weird_board = [['_']*3]*3 # The outer list is made of three references to the same inner list \n",
    "print(weird_board)\n",
    "weird_board[1][2] = 'X'\n",
    "print(weird_board)"
   ]
  },
  {
   "attachments": {},
   "cell_type": "markdown",
   "metadata": {},
   "source": [
    "## Managing ordered sequences with bisect"
   ]
  },
  {
   "cell_type": "code",
   "execution_count": 21,
   "metadata": {},
   "outputs": [
    {
     "name": "stdout",
     "output_type": "stream",
     "text": [
      "haystack ->  1  3  4  6  8 12 15 20 21 23 23 26 29 30\n",
      "31  14       |  |  |  |  |  |  |  |  |  |  |  |  |  |31\n",
      "30  14       |  |  |  |  |  |  |  |  |  |  |  |  |  |30\n",
      "29  13       |  |  |  |  |  |  |  |  |  |  |  |  |29\n",
      "23  11       |  |  |  |  |  |  |  |  |  |  |23\n",
      "22   9       |  |  |  |  |  |  |  |  |22\n",
      "10   5       |  |  |  |  |10\n",
      " 8   5       |  |  |  |  |8 \n",
      " 5   3       |  |  |5 \n",
      " 2   1       |2 \n",
      " 1   1       |1 \n",
      " 0   0     0 \n"
     ]
    }
   ],
   "source": [
    "import bisect\n",
    "import sys\n",
    "HAYSTACK = [1,3,4,6,8,12,15,20,21,23,23,26,29,30]\n",
    "NEEDLES = [0,1,2,5,8,10,22,23,29,30,31]\n",
    "ROW_FMT = '{0:2d}  {1:2d}     {2}{0:<2d}'\n",
    "\n",
    "def demo(bisect_fn):\n",
    "    for needle in reversed(NEEDLES):\n",
    "        position = bisect_fn(HAYSTACK,needle)\n",
    "        offset = position* '  |'\n",
    "        print(ROW_FMT.format(needle,position,offset))\n",
    "\n",
    "print('haystack ->',' '.join('{:2d}'.format(n) for n in HAYSTACK))\n",
    "demo(bisect.bisect)"
   ]
  },
  {
   "cell_type": "code",
   "execution_count": 23,
   "metadata": {},
   "outputs": [
    {
     "name": "stdout",
     "output_type": "stream",
     "text": [
      "['E', 'E', 'C', 'B', 'A']\n"
     ]
    }
   ],
   "source": [
    "# a auto grading function\n",
    "def grade(score,break_point=[60,70,80,90],rank = 'EDCBA'):\n",
    "    index = bisect.bisect(break_point,score)\n",
    "    return rank[index]\n",
    "\n",
    "print([grade(score) for score in [0,22,77,85,95]])"
   ]
  },
  {
   "attachments": {},
   "cell_type": "markdown",
   "metadata": {},
   "source": [
    "## Deques: double-ended queue; \n",
    "keep a list of last seen items, i.e. created with a maximum length - and then, when it is full, it discards items from the opposite end. "
   ]
  },
  {
   "cell_type": "code",
   "execution_count": 34,
   "metadata": {},
   "outputs": [
    {
     "name": "stdout",
     "output_type": "stream",
     "text": [
      "deque([0, 1, 2, 3, 4, 5, 6, 7, 8, 9], maxlen=10)\n"
     ]
    }
   ],
   "source": [
    "from collections import deque \n",
    "dp = deque(range(10),maxlen=10)\n",
    "print(dp)"
   ]
  },
  {
   "cell_type": "code",
   "execution_count": 35,
   "metadata": {},
   "outputs": [
    {
     "name": "stdout",
     "output_type": "stream",
     "text": [
      "After shift 3 index left: deque([7, 8, 9, 0, 1, 2, 3, 4, 5, 6], maxlen=10)\n",
      "Shift the queue back deque([0, 1, 2, 3, 4, 5, 6, 7, 8, 9], maxlen=10)\n"
     ]
    }
   ],
   "source": [
    "dp.rotate(3)\n",
    "print(f'After shift 3 index left: {dp}')\n",
    "dp.rotate(-3)\n",
    "print(f'Shift the queue back {dp}')"
   ]
  },
  {
   "cell_type": "code",
   "execution_count": 36,
   "metadata": {},
   "outputs": [
    {
     "name": "stdout",
     "output_type": "stream",
     "text": [
      "Appending to a full deque discards items from opposite end: deque([-1, 0, 1, 2, 3, 4, 5, 6, 7, 8], maxlen=10)\n"
     ]
    }
   ],
   "source": [
    "dp.appendleft(-1)\n",
    "print(f'Appending to a full deque discards items from opposite end: {dp}')"
   ]
  },
  {
   "cell_type": "code",
   "execution_count": 37,
   "metadata": {},
   "outputs": [
    {
     "name": "stdout",
     "output_type": "stream",
     "text": [
      "Remove and return the first element: deque([0, 1, 2, 3, 4, 5, 6, 7, 8], maxlen=10)\n"
     ]
    }
   ],
   "source": [
    "dp.popleft()\n",
    "print(f'Remove and return the first element: {dp}')"
   ]
  },
  {
   "cell_type": "code",
   "execution_count": null,
   "metadata": {},
   "outputs": [],
   "source": []
  }
 ],
 "metadata": {
  "kernelspec": {
   "display_name": "AI4Sci",
   "language": "python",
   "name": "python3"
  },
  "language_info": {
   "codemirror_mode": {
    "name": "ipython",
    "version": 3
   },
   "file_extension": ".py",
   "mimetype": "text/x-python",
   "name": "python",
   "nbconvert_exporter": "python",
   "pygments_lexer": "ipython3",
   "version": "3.9.16"
  },
  "orig_nbformat": 4
 },
 "nbformat": 4,
 "nbformat_minor": 2
}
